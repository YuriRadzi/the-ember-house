{
 "cells": [
  {
   "cell_type": "markdown",
   "id": "aa07715d",
   "metadata": {},
   "source": [
    "# THE EMBER HOUSE \n",
    "\n",
    "Este notebook possui o intuito de fazer o estudo de aprendizado de máquina sobre os diferentes tipos de grãos de cafés disponíveis no dataset coffee-bean-dataset-resized, que possui um conjunto de 4800 imagens de 4 tipos de torras. Com o modelo obtido, será possível realizar a identificação automática de tipos de grãos de café e por qual tipo de torra aos quais foram submetidos.  "
   ]
  },
  {
   "cell_type": "code",
   "execution_count": 7,
   "id": "5973c434",
   "metadata": {},
   "outputs": [],
   "source": [
    "# carregando bibliotecas utilizadas\n",
    "import kagglehub\n",
    "import pandas as pd\n",
    "import shutil\n",
    "import os\n"
   ]
  },
  {
   "cell_type": "code",
   "execution_count": 5,
   "id": "4a7a0432",
   "metadata": {},
   "outputs": [
    {
     "name": "stdout",
     "output_type": "stream",
     "text": [
      "Downloading from https://www.kaggle.com/api/v1/datasets/download/gpiosenka/coffee-bean-dataset-resized-224-x-224?dataset_version_number=1...\n"
     ]
    },
    {
     "name": "stderr",
     "output_type": "stream",
     "text": [
      "100%|██████████| 144M/144M [00:15<00:00, 9.87MB/s] "
     ]
    },
    {
     "name": "stdout",
     "output_type": "stream",
     "text": [
      "Extracting files...\n"
     ]
    },
    {
     "name": "stderr",
     "output_type": "stream",
     "text": [
      "\n"
     ]
    }
   ],
   "source": [
    "# Carregando dados caso ainda não importados\n",
    "\n",
    "data_dir = \"data\"\n",
    "\n",
    "if len(os.listdir(data_dir)) == 1: #Caso exista apenas o gitkeep, realiza o download do dataset\n",
    "    path = kagglehub.dataset_download(\"gpiosenka/coffee-bean-dataset-resized-224-x-224\")    \n",
    "    for item in os.listdir(path):\n",
    "        shutil.move(os.path.join(path, item), data_dir)\n",
    "    os.rmdir(path) # Apgara o diretório de download utilizado pelo pacote kaggle       \n",
    "\n",
    "      "
   ]
  },
  {
   "cell_type": "code",
   "execution_count": null,
   "id": "d8347732",
   "metadata": {},
   "outputs": [],
   "source": [
    "coffee_info = pd.read_csv(\"data/Coffee Bean.csv\")\n",
    "coffee_info[\"filepaths\"] = \"data/\"+coffee_info[\"filepaths\"] #Ajustando o caminho das imagens conforme estrutura de diretórios criada no projeto"
   ]
  }
 ],
 "metadata": {
  "kernelspec": {
   "display_name": "Python 3",
   "language": "python",
   "name": "python3"
  },
  "language_info": {
   "codemirror_mode": {
    "name": "ipython",
    "version": 3
   },
   "file_extension": ".py",
   "mimetype": "text/x-python",
   "name": "python",
   "nbconvert_exporter": "python",
   "pygments_lexer": "ipython3",
   "version": "3.11.2"
  }
 },
 "nbformat": 4,
 "nbformat_minor": 5
}
